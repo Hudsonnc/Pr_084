{
 "cells": [
  {
   "cell_type": "markdown",
   "metadata": {},
   "source": [
    "# Walk Score"
   ]
  },
  {
   "cell_type": "code",
   "execution_count": 101,
   "metadata": {
    "collapsed": false
   },
   "outputs": [],
   "source": [
    "import requests\n",
    "from bs4 import BeautifulSoup\n",
    "import pandas as pd\n",
    "from matplotlib import pyplot as plt\n",
    "%matplotlib inline\n",
    "import numpy as np"
   ]
  },
  {
   "cell_type": "code",
   "execution_count": 102,
   "metadata": {
    "collapsed": true
   },
   "outputs": [],
   "source": [
    "city = 'San_Diego'"
   ]
  },
  {
   "cell_type": "code",
   "execution_count": 103,
   "metadata": {
    "collapsed": false
   },
   "outputs": [],
   "source": [
    "page = requests.get('https://www.walkscore.com/CA/'+city)\n",
    "soup = BeautifulSoup(page.content, 'html.parser')\n",
    "table = soup.table('tr')[1:]\n",
    "alldat = []\n",
    "for entry in table:\n",
    "    split = entry.get_text().split()\n",
    "    data = {\n",
    "            'city': city.replace('_', ' '),\n",
    "            'neighborhood': ' '.join(split[1:-4]),\n",
    "            'walk': float(split[-4].replace('-','nan')),\n",
    "            'transit': float(split[-3].replace('-','nan')),\n",
    "            'bike': float(split[-2].replace('-','nan')),\n",
    "#             'pop': int(split[-1].replace(',','')),\n",
    "#             'logpop': np.log(int(split[-1].replace(',','')))\n",
    "        }\n",
    "    alldat.append(data)"
   ]
  },
  {
   "cell_type": "code",
   "execution_count": 104,
   "metadata": {
    "collapsed": false,
    "scrolled": false
   },
   "outputs": [],
   "source": [
    "ws = pd.DataFrame(alldat)"
   ]
  },
  {
   "cell_type": "code",
   "execution_count": 105,
   "metadata": {
    "collapsed": false
   },
   "outputs": [
    {
     "data": {
      "text/html": [
       "<div>\n",
       "<table border=\"1\" class=\"dataframe\">\n",
       "  <thead>\n",
       "    <tr style=\"text-align: right;\">\n",
       "      <th></th>\n",
       "      <th>bike</th>\n",
       "      <th>city</th>\n",
       "      <th>neighborhood</th>\n",
       "      <th>transit</th>\n",
       "      <th>walk</th>\n",
       "    </tr>\n",
       "  </thead>\n",
       "  <tbody>\n",
       "    <tr>\n",
       "      <th>0</th>\n",
       "      <td>65.0</td>\n",
       "      <td>San Diego</td>\n",
       "      <td>Core-Columbia</td>\n",
       "      <td>81.0</td>\n",
       "      <td>98.0</td>\n",
       "    </tr>\n",
       "    <tr>\n",
       "      <th>1</th>\n",
       "      <td>82.0</td>\n",
       "      <td>San Diego</td>\n",
       "      <td>Horton Plaza</td>\n",
       "      <td>81.0</td>\n",
       "      <td>97.0</td>\n",
       "    </tr>\n",
       "    <tr>\n",
       "      <th>2</th>\n",
       "      <td>66.0</td>\n",
       "      <td>San Diego</td>\n",
       "      <td>Little Italy</td>\n",
       "      <td>77.0</td>\n",
       "      <td>97.0</td>\n",
       "    </tr>\n",
       "    <tr>\n",
       "      <th>3</th>\n",
       "      <td>77.0</td>\n",
       "      <td>San Diego</td>\n",
       "      <td>Gaslamp</td>\n",
       "      <td>80.0</td>\n",
       "      <td>97.0</td>\n",
       "    </tr>\n",
       "    <tr>\n",
       "      <th>4</th>\n",
       "      <td>74.0</td>\n",
       "      <td>San Diego</td>\n",
       "      <td>Harborview</td>\n",
       "      <td>75.0</td>\n",
       "      <td>97.0</td>\n",
       "    </tr>\n",
       "    <tr>\n",
       "      <th>5</th>\n",
       "      <td>54.0</td>\n",
       "      <td>San Diego</td>\n",
       "      <td>Cortez</td>\n",
       "      <td>78.0</td>\n",
       "      <td>94.0</td>\n",
       "    </tr>\n",
       "    <tr>\n",
       "      <th>6</th>\n",
       "      <td>84.0</td>\n",
       "      <td>San Diego</td>\n",
       "      <td>Marina</td>\n",
       "      <td>79.0</td>\n",
       "      <td>94.0</td>\n",
       "    </tr>\n",
       "    <tr>\n",
       "      <th>7</th>\n",
       "      <td>64.0</td>\n",
       "      <td>San Diego</td>\n",
       "      <td>East Village</td>\n",
       "      <td>78.0</td>\n",
       "      <td>93.0</td>\n",
       "    </tr>\n",
       "    <tr>\n",
       "      <th>8</th>\n",
       "      <td>52.0</td>\n",
       "      <td>San Diego</td>\n",
       "      <td>Village</td>\n",
       "      <td>33.0</td>\n",
       "      <td>88.0</td>\n",
       "    </tr>\n",
       "    <tr>\n",
       "      <th>9</th>\n",
       "      <td>59.0</td>\n",
       "      <td>San Diego</td>\n",
       "      <td>Sherman Heights</td>\n",
       "      <td>68.0</td>\n",
       "      <td>87.0</td>\n",
       "    </tr>\n",
       "    <tr>\n",
       "      <th>10</th>\n",
       "      <td>54.0</td>\n",
       "      <td>San Diego</td>\n",
       "      <td>Park West</td>\n",
       "      <td>59.0</td>\n",
       "      <td>86.0</td>\n",
       "    </tr>\n",
       "    <tr>\n",
       "      <th>11</th>\n",
       "      <td>59.0</td>\n",
       "      <td>San Diego</td>\n",
       "      <td>Normal Heights</td>\n",
       "      <td>52.0</td>\n",
       "      <td>86.0</td>\n",
       "    </tr>\n",
       "    <tr>\n",
       "      <th>12</th>\n",
       "      <td>57.0</td>\n",
       "      <td>San Diego</td>\n",
       "      <td>Grant Hill</td>\n",
       "      <td>54.0</td>\n",
       "      <td>85.0</td>\n",
       "    </tr>\n",
       "    <tr>\n",
       "      <th>13</th>\n",
       "      <td>68.0</td>\n",
       "      <td>San Diego</td>\n",
       "      <td>Ocean Beach</td>\n",
       "      <td>32.0</td>\n",
       "      <td>82.0</td>\n",
       "    </tr>\n",
       "    <tr>\n",
       "      <th>14</th>\n",
       "      <td>59.0</td>\n",
       "      <td>San Diego</td>\n",
       "      <td>North Park</td>\n",
       "      <td>51.0</td>\n",
       "      <td>81.0</td>\n",
       "    </tr>\n",
       "    <tr>\n",
       "      <th>15</th>\n",
       "      <td>58.0</td>\n",
       "      <td>San Diego</td>\n",
       "      <td>Hillcrest</td>\n",
       "      <td>54.0</td>\n",
       "      <td>81.0</td>\n",
       "    </tr>\n",
       "    <tr>\n",
       "      <th>16</th>\n",
       "      <td>56.0</td>\n",
       "      <td>San Diego</td>\n",
       "      <td>Logan Heights</td>\n",
       "      <td>57.0</td>\n",
       "      <td>80.0</td>\n",
       "    </tr>\n",
       "    <tr>\n",
       "      <th>17</th>\n",
       "      <td>56.0</td>\n",
       "      <td>San Diego</td>\n",
       "      <td>Golden Hill</td>\n",
       "      <td>50.0</td>\n",
       "      <td>79.0</td>\n",
       "    </tr>\n",
       "    <tr>\n",
       "      <th>18</th>\n",
       "      <td>67.0</td>\n",
       "      <td>San Diego</td>\n",
       "      <td>University Heights</td>\n",
       "      <td>54.0</td>\n",
       "      <td>79.0</td>\n",
       "    </tr>\n",
       "    <tr>\n",
       "      <th>19</th>\n",
       "      <td>44.0</td>\n",
       "      <td>San Diego</td>\n",
       "      <td>Old Town</td>\n",
       "      <td>59.0</td>\n",
       "      <td>77.0</td>\n",
       "    </tr>\n",
       "    <tr>\n",
       "      <th>20</th>\n",
       "      <td>55.0</td>\n",
       "      <td>San Diego</td>\n",
       "      <td>Rolando</td>\n",
       "      <td>49.0</td>\n",
       "      <td>76.0</td>\n",
       "    </tr>\n",
       "    <tr>\n",
       "      <th>21</th>\n",
       "      <td>50.0</td>\n",
       "      <td>San Diego</td>\n",
       "      <td>Adams North</td>\n",
       "      <td>46.0</td>\n",
       "      <td>74.0</td>\n",
       "    </tr>\n",
       "    <tr>\n",
       "      <th>22</th>\n",
       "      <td>49.0</td>\n",
       "      <td>San Diego</td>\n",
       "      <td>City Heights</td>\n",
       "      <td>49.0</td>\n",
       "      <td>74.0</td>\n",
       "    </tr>\n",
       "    <tr>\n",
       "      <th>23</th>\n",
       "      <td>67.0</td>\n",
       "      <td>San Diego</td>\n",
       "      <td>Pacific Beach</td>\n",
       "      <td>37.0</td>\n",
       "      <td>71.0</td>\n",
       "    </tr>\n",
       "    <tr>\n",
       "      <th>24</th>\n",
       "      <td>51.0</td>\n",
       "      <td>San Diego</td>\n",
       "      <td>Bird Rock</td>\n",
       "      <td>33.0</td>\n",
       "      <td>71.0</td>\n",
       "    </tr>\n",
       "    <tr>\n",
       "      <th>25</th>\n",
       "      <td>54.0</td>\n",
       "      <td>San Diego</td>\n",
       "      <td>Roseville - Fleet Ridge</td>\n",
       "      <td>31.0</td>\n",
       "      <td>71.0</td>\n",
       "    </tr>\n",
       "    <tr>\n",
       "      <th>26</th>\n",
       "      <td>48.0</td>\n",
       "      <td>San Diego</td>\n",
       "      <td>South Park</td>\n",
       "      <td>35.0</td>\n",
       "      <td>70.0</td>\n",
       "    </tr>\n",
       "    <tr>\n",
       "      <th>27</th>\n",
       "      <td>49.0</td>\n",
       "      <td>San Diego</td>\n",
       "      <td>Mission Hills</td>\n",
       "      <td>48.0</td>\n",
       "      <td>70.0</td>\n",
       "    </tr>\n",
       "    <tr>\n",
       "      <th>28</th>\n",
       "      <td>48.0</td>\n",
       "      <td>San Diego</td>\n",
       "      <td>Kensington</td>\n",
       "      <td>50.0</td>\n",
       "      <td>70.0</td>\n",
       "    </tr>\n",
       "    <tr>\n",
       "      <th>29</th>\n",
       "      <td>49.0</td>\n",
       "      <td>San Diego</td>\n",
       "      <td>Stockton</td>\n",
       "      <td>50.0</td>\n",
       "      <td>69.0</td>\n",
       "    </tr>\n",
       "    <tr>\n",
       "      <th>...</th>\n",
       "      <td>...</td>\n",
       "      <td>...</td>\n",
       "      <td>...</td>\n",
       "      <td>...</td>\n",
       "      <td>...</td>\n",
       "    </tr>\n",
       "    <tr>\n",
       "      <th>87</th>\n",
       "      <td>25.0</td>\n",
       "      <td>San Diego</td>\n",
       "      <td>Bay Terraces</td>\n",
       "      <td>35.0</td>\n",
       "      <td>34.0</td>\n",
       "    </tr>\n",
       "    <tr>\n",
       "      <th>88</th>\n",
       "      <td>47.0</td>\n",
       "      <td>San Diego</td>\n",
       "      <td>Carmel Valley</td>\n",
       "      <td>0.0</td>\n",
       "      <td>34.0</td>\n",
       "    </tr>\n",
       "    <tr>\n",
       "      <th>89</th>\n",
       "      <td>24.0</td>\n",
       "      <td>San Diego</td>\n",
       "      <td>Alta Vista</td>\n",
       "      <td>35.0</td>\n",
       "      <td>32.0</td>\n",
       "    </tr>\n",
       "    <tr>\n",
       "      <th>90</th>\n",
       "      <td>25.0</td>\n",
       "      <td>San Diego</td>\n",
       "      <td>Jolla Mesa</td>\n",
       "      <td>23.0</td>\n",
       "      <td>32.0</td>\n",
       "    </tr>\n",
       "    <tr>\n",
       "      <th>91</th>\n",
       "      <td>28.0</td>\n",
       "      <td>San Diego</td>\n",
       "      <td>Emerald Hills</td>\n",
       "      <td>47.0</td>\n",
       "      <td>32.0</td>\n",
       "    </tr>\n",
       "    <tr>\n",
       "      <th>92</th>\n",
       "      <td>27.0</td>\n",
       "      <td>San Diego</td>\n",
       "      <td>Wooded Area</td>\n",
       "      <td>19.0</td>\n",
       "      <td>30.0</td>\n",
       "    </tr>\n",
       "    <tr>\n",
       "      <th>93</th>\n",
       "      <td>29.0</td>\n",
       "      <td>San Diego</td>\n",
       "      <td>Del Mar Heights</td>\n",
       "      <td>19.0</td>\n",
       "      <td>30.0</td>\n",
       "    </tr>\n",
       "    <tr>\n",
       "      <th>94</th>\n",
       "      <td>35.0</td>\n",
       "      <td>San Diego</td>\n",
       "      <td>Tierrasanta</td>\n",
       "      <td>17.0</td>\n",
       "      <td>27.0</td>\n",
       "    </tr>\n",
       "    <tr>\n",
       "      <th>95</th>\n",
       "      <td>27.0</td>\n",
       "      <td>San Diego</td>\n",
       "      <td>La Jolla</td>\n",
       "      <td>26.0</td>\n",
       "      <td>27.0</td>\n",
       "    </tr>\n",
       "    <tr>\n",
       "      <th>96</th>\n",
       "      <td>31.0</td>\n",
       "      <td>San Diego</td>\n",
       "      <td>San Carlos</td>\n",
       "      <td>16.0</td>\n",
       "      <td>27.0</td>\n",
       "    </tr>\n",
       "    <tr>\n",
       "      <th>97</th>\n",
       "      <td>32.0</td>\n",
       "      <td>San Diego</td>\n",
       "      <td>Rancho Bernardo</td>\n",
       "      <td>22.0</td>\n",
       "      <td>27.0</td>\n",
       "    </tr>\n",
       "    <tr>\n",
       "      <th>98</th>\n",
       "      <td>26.0</td>\n",
       "      <td>San Diego</td>\n",
       "      <td>Ocean Crest</td>\n",
       "      <td>26.0</td>\n",
       "      <td>26.0</td>\n",
       "    </tr>\n",
       "    <tr>\n",
       "      <th>99</th>\n",
       "      <td>31.0</td>\n",
       "      <td>San Diego</td>\n",
       "      <td>Rancho Penasquitos</td>\n",
       "      <td>13.0</td>\n",
       "      <td>24.0</td>\n",
       "    </tr>\n",
       "    <tr>\n",
       "      <th>100</th>\n",
       "      <td>27.0</td>\n",
       "      <td>San Diego</td>\n",
       "      <td>Sabre Springs</td>\n",
       "      <td>27.0</td>\n",
       "      <td>24.0</td>\n",
       "    </tr>\n",
       "    <tr>\n",
       "      <th>101</th>\n",
       "      <td>41.0</td>\n",
       "      <td>San Diego</td>\n",
       "      <td>La Jolla Heights</td>\n",
       "      <td>36.0</td>\n",
       "      <td>23.0</td>\n",
       "    </tr>\n",
       "    <tr>\n",
       "      <th>102</th>\n",
       "      <td>29.0</td>\n",
       "      <td>San Diego</td>\n",
       "      <td>Scripps Ranch</td>\n",
       "      <td>10.0</td>\n",
       "      <td>22.0</td>\n",
       "    </tr>\n",
       "    <tr>\n",
       "      <th>103</th>\n",
       "      <td>23.0</td>\n",
       "      <td>San Diego</td>\n",
       "      <td>Hidden Valley</td>\n",
       "      <td>28.0</td>\n",
       "      <td>22.0</td>\n",
       "    </tr>\n",
       "    <tr>\n",
       "      <th>104</th>\n",
       "      <td>19.0</td>\n",
       "      <td>San Diego</td>\n",
       "      <td>Soledad South</td>\n",
       "      <td>0.0</td>\n",
       "      <td>22.0</td>\n",
       "    </tr>\n",
       "    <tr>\n",
       "      <th>105</th>\n",
       "      <td>18.0</td>\n",
       "      <td>San Diego</td>\n",
       "      <td>Del Cerro</td>\n",
       "      <td>36.0</td>\n",
       "      <td>21.0</td>\n",
       "    </tr>\n",
       "    <tr>\n",
       "      <th>106</th>\n",
       "      <td>27.0</td>\n",
       "      <td>San Diego</td>\n",
       "      <td>North City</td>\n",
       "      <td>3.0</td>\n",
       "      <td>20.0</td>\n",
       "    </tr>\n",
       "    <tr>\n",
       "      <th>107</th>\n",
       "      <td>20.0</td>\n",
       "      <td>San Diego</td>\n",
       "      <td>La Jolla Alta</td>\n",
       "      <td>8.0</td>\n",
       "      <td>20.0</td>\n",
       "    </tr>\n",
       "    <tr>\n",
       "      <th>108</th>\n",
       "      <td>23.0</td>\n",
       "      <td>San Diego</td>\n",
       "      <td>Muirlands</td>\n",
       "      <td>21.0</td>\n",
       "      <td>20.0</td>\n",
       "    </tr>\n",
       "    <tr>\n",
       "      <th>109</th>\n",
       "      <td>29.0</td>\n",
       "      <td>San Diego</td>\n",
       "      <td>Miramar Ranch North</td>\n",
       "      <td>9.0</td>\n",
       "      <td>19.0</td>\n",
       "    </tr>\n",
       "    <tr>\n",
       "      <th>110</th>\n",
       "      <td>37.0</td>\n",
       "      <td>San Diego</td>\n",
       "      <td>Torrey Highlands</td>\n",
       "      <td>NaN</td>\n",
       "      <td>19.0</td>\n",
       "    </tr>\n",
       "    <tr>\n",
       "      <th>111</th>\n",
       "      <td>64.0</td>\n",
       "      <td>San Diego</td>\n",
       "      <td>Mission Bay Park</td>\n",
       "      <td>34.0</td>\n",
       "      <td>17.0</td>\n",
       "    </tr>\n",
       "    <tr>\n",
       "      <th>112</th>\n",
       "      <td>26.0</td>\n",
       "      <td>San Diego</td>\n",
       "      <td>Black Mountain Ranch</td>\n",
       "      <td>3.0</td>\n",
       "      <td>12.0</td>\n",
       "    </tr>\n",
       "    <tr>\n",
       "      <th>113</th>\n",
       "      <td>18.0</td>\n",
       "      <td>San Diego</td>\n",
       "      <td>Sorrento Valley</td>\n",
       "      <td>18.0</td>\n",
       "      <td>12.0</td>\n",
       "    </tr>\n",
       "    <tr>\n",
       "      <th>114</th>\n",
       "      <td>16.0</td>\n",
       "      <td>San Diego</td>\n",
       "      <td>Otay Mesa</td>\n",
       "      <td>30.0</td>\n",
       "      <td>10.0</td>\n",
       "    </tr>\n",
       "    <tr>\n",
       "      <th>115</th>\n",
       "      <td>29.0</td>\n",
       "      <td>San Diego</td>\n",
       "      <td>Tijuana River Valley</td>\n",
       "      <td>30.0</td>\n",
       "      <td>8.0</td>\n",
       "    </tr>\n",
       "    <tr>\n",
       "      <th>116</th>\n",
       "      <td>17.0</td>\n",
       "      <td>San Diego</td>\n",
       "      <td>Rancho Encantada</td>\n",
       "      <td>0.0</td>\n",
       "      <td>4.0</td>\n",
       "    </tr>\n",
       "  </tbody>\n",
       "</table>\n",
       "<p>117 rows × 5 columns</p>\n",
       "</div>"
      ],
      "text/plain": [
       "     bike       city             neighborhood  transit  walk\n",
       "0    65.0  San Diego            Core-Columbia     81.0  98.0\n",
       "1    82.0  San Diego             Horton Plaza     81.0  97.0\n",
       "2    66.0  San Diego             Little Italy     77.0  97.0\n",
       "3    77.0  San Diego                  Gaslamp     80.0  97.0\n",
       "4    74.0  San Diego               Harborview     75.0  97.0\n",
       "5    54.0  San Diego                   Cortez     78.0  94.0\n",
       "6    84.0  San Diego                   Marina     79.0  94.0\n",
       "7    64.0  San Diego             East Village     78.0  93.0\n",
       "8    52.0  San Diego                  Village     33.0  88.0\n",
       "9    59.0  San Diego          Sherman Heights     68.0  87.0\n",
       "10   54.0  San Diego                Park West     59.0  86.0\n",
       "11   59.0  San Diego           Normal Heights     52.0  86.0\n",
       "12   57.0  San Diego               Grant Hill     54.0  85.0\n",
       "13   68.0  San Diego              Ocean Beach     32.0  82.0\n",
       "14   59.0  San Diego               North Park     51.0  81.0\n",
       "15   58.0  San Diego                Hillcrest     54.0  81.0\n",
       "16   56.0  San Diego            Logan Heights     57.0  80.0\n",
       "17   56.0  San Diego              Golden Hill     50.0  79.0\n",
       "18   67.0  San Diego       University Heights     54.0  79.0\n",
       "19   44.0  San Diego                 Old Town     59.0  77.0\n",
       "20   55.0  San Diego                  Rolando     49.0  76.0\n",
       "21   50.0  San Diego              Adams North     46.0  74.0\n",
       "22   49.0  San Diego             City Heights     49.0  74.0\n",
       "23   67.0  San Diego            Pacific Beach     37.0  71.0\n",
       "24   51.0  San Diego                Bird Rock     33.0  71.0\n",
       "25   54.0  San Diego  Roseville - Fleet Ridge     31.0  71.0\n",
       "26   48.0  San Diego               South Park     35.0  70.0\n",
       "27   49.0  San Diego            Mission Hills     48.0  70.0\n",
       "28   48.0  San Diego               Kensington     50.0  70.0\n",
       "29   49.0  San Diego                 Stockton     50.0  69.0\n",
       "..    ...        ...                      ...      ...   ...\n",
       "87   25.0  San Diego             Bay Terraces     35.0  34.0\n",
       "88   47.0  San Diego            Carmel Valley      0.0  34.0\n",
       "89   24.0  San Diego               Alta Vista     35.0  32.0\n",
       "90   25.0  San Diego               Jolla Mesa     23.0  32.0\n",
       "91   28.0  San Diego            Emerald Hills     47.0  32.0\n",
       "92   27.0  San Diego              Wooded Area     19.0  30.0\n",
       "93   29.0  San Diego          Del Mar Heights     19.0  30.0\n",
       "94   35.0  San Diego              Tierrasanta     17.0  27.0\n",
       "95   27.0  San Diego                 La Jolla     26.0  27.0\n",
       "96   31.0  San Diego               San Carlos     16.0  27.0\n",
       "97   32.0  San Diego          Rancho Bernardo     22.0  27.0\n",
       "98   26.0  San Diego              Ocean Crest     26.0  26.0\n",
       "99   31.0  San Diego       Rancho Penasquitos     13.0  24.0\n",
       "100  27.0  San Diego            Sabre Springs     27.0  24.0\n",
       "101  41.0  San Diego         La Jolla Heights     36.0  23.0\n",
       "102  29.0  San Diego            Scripps Ranch     10.0  22.0\n",
       "103  23.0  San Diego            Hidden Valley     28.0  22.0\n",
       "104  19.0  San Diego            Soledad South      0.0  22.0\n",
       "105  18.0  San Diego                Del Cerro     36.0  21.0\n",
       "106  27.0  San Diego               North City      3.0  20.0\n",
       "107  20.0  San Diego            La Jolla Alta      8.0  20.0\n",
       "108  23.0  San Diego                Muirlands     21.0  20.0\n",
       "109  29.0  San Diego      Miramar Ranch North      9.0  19.0\n",
       "110  37.0  San Diego         Torrey Highlands      NaN  19.0\n",
       "111  64.0  San Diego         Mission Bay Park     34.0  17.0\n",
       "112  26.0  San Diego     Black Mountain Ranch      3.0  12.0\n",
       "113  18.0  San Diego          Sorrento Valley     18.0  12.0\n",
       "114  16.0  San Diego                Otay Mesa     30.0  10.0\n",
       "115  29.0  San Diego     Tijuana River Valley     30.0   8.0\n",
       "116  17.0  San Diego         Rancho Encantada      0.0   4.0\n",
       "\n",
       "[117 rows x 5 columns]"
      ]
     },
     "execution_count": 105,
     "metadata": {},
     "output_type": "execute_result"
    }
   ],
   "source": [
    "ws"
   ]
  },
  {
   "cell_type": "code",
   "execution_count": 106,
   "metadata": {
    "collapsed": false
   },
   "outputs": [
    {
     "data": {
      "image/png": "[encoded data removed]",
      "text/plain": [
       "<matplotlib.figure.Figure at 0x7f54bb60e2e8>"
      ]
     },
     "metadata": {},
     "output_type": "display_data"
    }
   ],
   "source": [
    "scatter = pd.scatter_matrix(ws)"
   ]
  },
  {
   "cell_type": "code",
   "execution_count": 107,
   "metadata": {
    "collapsed": true
   },
   "outputs": [],
   "source": [
    "import shapefile"
   ]
  },
  {
   "cell_type": "code",
   "execution_count": 108,
   "metadata": {
    "collapsed": true
   },
   "outputs": [],
   "source": [
    "ca_neighborhoods = shapefile.Reader(\"Data/CA Neighborhoods/ZillowNeighborhoods-CA.shp\")\n",
    "ca_neighborhood_metadata = ca_neighborhoods.shapeRecords()"
   ]
  },
  {
   "cell_type": "code",
   "execution_count": 109,
   "metadata": {
    "collapsed": false
   },
   "outputs": [],
   "source": [
    "sd_neighborhood_list = []\n",
    "for i in range(len(ca_neighborhood_metadata)):\n",
    "    if ca_neighborhood_metadata[i].record[2] == 'San Diego':\n",
    "        sd_neighborhood_list.append(i)"
   ]
  },
  {
   "cell_type": "code",
   "execution_count": 110,
   "metadata": {
    "collapsed": false
   },
   "outputs": [
    {
     "data": {
      "image/png": "[encoded data removed]",
      "text/plain": [
       "<matplotlib.figure.Figure at 0x7f54be5213c8>"
      ]
     },
     "metadata": {},
     "output_type": "display_data"
    }
   ],
   "source": [
    "for i in sd_neighborhood_list:\n",
    "    shape = ca_neighborhoods.shapes()[i]\n",
    "    plt.plot(np.array(shape.points)[:,0], np.array(shape.points)[:,1])"
   ]
  },
  {
   "cell_type": "code",
   "execution_count": 12,
   "metadata": {
    "collapsed": false
   },
   "outputs": [
    {
     "name": "stdout",
     "output_type": "stream",
     "text": [
      "True\n",
      "True\n",
      "True\n",
      "True\n",
      "True\n",
      "True\n",
      "True\n",
      "True\n",
      "True\n",
      "True\n",
      "True\n",
      "True\n",
      "True\n",
      "True\n",
      "True\n",
      "True\n",
      "True\n",
      "True\n",
      "True\n",
      "True\n",
      "True\n",
      "True\n",
      "True\n",
      "True\n",
      "True\n",
      "True\n",
      "True\n",
      "True\n",
      "False\n",
      "True\n",
      "True\n",
      "True\n",
      "True\n",
      "True\n",
      "True\n",
      "True\n",
      "True\n",
      "True\n",
      "True\n",
      "True\n",
      "False\n",
      "True\n",
      "True\n",
      "True\n",
      "True\n",
      "False\n",
      "True\n",
      "True\n",
      "True\n",
      "True\n",
      "True\n",
      "True\n",
      "True\n",
      "True\n",
      "True\n",
      "True\n",
      "True\n",
      "True\n",
      "True\n",
      "True\n",
      "True\n",
      "False\n",
      "True\n",
      "False\n",
      "True\n",
      "True\n",
      "True\n",
      "True\n",
      "True\n",
      "True\n",
      "True\n",
      "True\n",
      "True\n",
      "True\n",
      "True\n",
      "True\n",
      "True\n",
      "True\n",
      "False\n",
      "True\n",
      "True\n",
      "True\n",
      "True\n",
      "False\n",
      "True\n",
      "False\n",
      "True\n",
      "True\n",
      "True\n",
      "True\n",
      "True\n",
      "False\n",
      "True\n",
      "True\n",
      "True\n",
      "False\n",
      "True\n",
      "True\n",
      "True\n",
      "False\n",
      "False\n",
      "False\n",
      "False\n",
      "False\n",
      "True\n",
      "True\n",
      "True\n",
      "False\n",
      "False\n",
      "False\n",
      "False\n",
      "False\n",
      "False\n",
      "False\n",
      "False\n",
      "False\n",
      "False\n",
      "True\n",
      "False\n",
      "True\n",
      "True\n"
     ]
    }
   ],
   "source": [
    "for i in sd_neighborhood_list:\n",
    "    print(ca_neighborhood_metadata[i].record[3] in ws['neighborhood'].tolist())"
   ]
  },
  {
   "cell_type": "markdown",
   "metadata": {},
   "source": [
    "# Census"
   ]
  },
  {
   "cell_type": "code",
   "execution_count": 13,
   "metadata": {
    "collapsed": true
   },
   "outputs": [],
   "source": [
    "API_KEY = '03e859cb7bc3642db769c4a6ce7ac8cf166d6ebe'"
   ]
  },
  {
   "cell_type": "code",
   "execution_count": 111,
   "metadata": {
    "collapsed": true
   },
   "outputs": [],
   "source": [
    "import shapefile"
   ]
  },
  {
   "cell_type": "code",
   "execution_count": 112,
   "metadata": {
    "collapsed": false
   },
   "outputs": [],
   "source": [
    "ca_tracts = shapefile.Reader(\"Data/CA Census Tracts/cb_2015_06_tract_500k.shp\")"
   ]
  },
  {
   "cell_type": "code",
   "execution_count": 113,
   "metadata": {
    "collapsed": false
   },
   "outputs": [],
   "source": [
    "ca_tract_metadata = ca_tracts.shapeRecords()"
   ]
  },
  {
   "cell_type": "code",
   "execution_count": 114,
   "metadata": {
    "collapsed": false
   },
   "outputs": [],
   "source": [
    "sd_tract_list = []\n",
    "for i in range(len(ca_tract_metadata)):\n",
    "    if ca_tract_metadata[i].record[1] == '073':\n",
    "        sd_tract_list.append(i)"
   ]
  },
  {
   "cell_type": "code",
   "execution_count": 115,
   "metadata": {
    "collapsed": false,
    "scrolled": false
   },
   "outputs": [
    {
     "ename": "KeyboardInterrupt",
     "evalue": "",
     "output_type": "error",
     "traceback": [
      "\u001b[0;31m---------------------------------------------------------------------------\u001b[0m",
      "\u001b[0;31mKeyboardInterrupt\u001b[0m                         Traceback (most recent call last)",
      "\u001b[0;32m<ipython-input-115-72b02220f94b>\u001b[0m in \u001b[0;36m<module>\u001b[0;34m()\u001b[0m\n\u001b[1;32m      1\u001b[0m \u001b[0;32mfor\u001b[0m \u001b[0mi\u001b[0m \u001b[0;32min\u001b[0m \u001b[0msd_tract_list\u001b[0m\u001b[0;34m:\u001b[0m\u001b[0;34m\u001b[0m\u001b[0m\n\u001b[0;32m----> 2\u001b[0;31m     \u001b[0mshape\u001b[0m \u001b[0;34m=\u001b[0m \u001b[0mca_tracts\u001b[0m\u001b[0;34m.\u001b[0m\u001b[0mshapes\u001b[0m\u001b[0;34m(\u001b[0m\u001b[0;34m)\u001b[0m\u001b[0;34m[\u001b[0m\u001b[0mi\u001b[0m\u001b[0;34m]\u001b[0m\u001b[0;34m\u001b[0m\u001b[0m\n\u001b[0m\u001b[1;32m      3\u001b[0m     \u001b[0mplt\u001b[0m\u001b[0;34m.\u001b[0m\u001b[0mplot\u001b[0m\u001b[0;34m(\u001b[0m\u001b[0mnp\u001b[0m\u001b[0;34m.\u001b[0m\u001b[0marray\u001b[0m\u001b[0;34m(\u001b[0m\u001b[0mshape\u001b[0m\u001b[0;34m.\u001b[0m\u001b[0mpoints\u001b[0m\u001b[0;34m)\u001b[0m\u001b[0;34m[\u001b[0m\u001b[0;34m:\u001b[0m\u001b[0;34m,\u001b[0m\u001b[0;36m0\u001b[0m\u001b[0;34m]\u001b[0m\u001b[0;34m,\u001b[0m \u001b[0mnp\u001b[0m\u001b[0;34m.\u001b[0m\u001b[0marray\u001b[0m\u001b[0;34m(\u001b[0m\u001b[0mshape\u001b[0m\u001b[0;34m.\u001b[0m\u001b[0mpoints\u001b[0m\u001b[0;34m)\u001b[0m\u001b[0;34m[\u001b[0m\u001b[0;34m:\u001b[0m\u001b[0;34m,\u001b[0m\u001b[0;36m1\u001b[0m\u001b[0;34m]\u001b[0m\u001b[0;34m)\u001b[0m\u001b[0;34m\u001b[0m\u001b[0m\n",
      "\u001b[0;32m/home/hudson/anaconda3/lib/python3.6/site-packages/shapefile.py\u001b[0m in \u001b[0;36mshapes\u001b[0;34m(self)\u001b[0m\n\u001b[1;32m    430\u001b[0m         \u001b[0mshapes\u001b[0m \u001b[0;34m=\u001b[0m \u001b[0;34m[\u001b[0m\u001b[0;34m]\u001b[0m\u001b[0;34m\u001b[0m\u001b[0m\n\u001b[1;32m    431\u001b[0m         \u001b[0;32mwhile\u001b[0m \u001b[0mshp\u001b[0m\u001b[0;34m.\u001b[0m\u001b[0mtell\u001b[0m\u001b[0;34m(\u001b[0m\u001b[0;34m)\u001b[0m \u001b[0;34m<\u001b[0m \u001b[0mself\u001b[0m\u001b[0;34m.\u001b[0m\u001b[0mshpLength\u001b[0m\u001b[0;34m:\u001b[0m\u001b[0;34m\u001b[0m\u001b[0m\n\u001b[0;32m--> 432\u001b[0;31m             \u001b[0mshapes\u001b[0m\u001b[0;34m.\u001b[0m\u001b[0mappend\u001b[0m\u001b[0;34m(\u001b[0m\u001b[0mself\u001b[0m\u001b[0;34m.\u001b[0m\u001b[0m__shape\u001b[0m\u001b[0;34m(\u001b[0m\u001b[0;34m)\u001b[0m\u001b[0;34m)\u001b[0m\u001b[0;34m\u001b[0m\u001b[0m\n\u001b[0m\u001b[1;32m    433\u001b[0m         \u001b[0;32mreturn\u001b[0m \u001b[0mshapes\u001b[0m\u001b[0;34m\u001b[0m\u001b[0m\n\u001b[1;32m    434\u001b[0m \u001b[0;34m\u001b[0m\u001b[0m\n",
      "\u001b[0;32m/home/hudson/anaconda3/lib/python3.6/site-packages/shapefile.py\u001b[0m in \u001b[0;36m__shape\u001b[0;34m(self)\u001b[0m\n\u001b[1;32m    351\u001b[0m         \u001b[0;31m# Read points - produces a list of [x,y] values\u001b[0m\u001b[0;34m\u001b[0m\u001b[0;34m\u001b[0m\u001b[0m\n\u001b[1;32m    352\u001b[0m         \u001b[0;32mif\u001b[0m \u001b[0mnPoints\u001b[0m\u001b[0;34m:\u001b[0m\u001b[0;34m\u001b[0m\u001b[0m\n\u001b[0;32m--> 353\u001b[0;31m             \u001b[0mflat\u001b[0m \u001b[0;34m=\u001b[0m \u001b[0munpack\u001b[0m\u001b[0;34m(\u001b[0m\u001b[0;34m\"<%sd\"\u001b[0m \u001b[0;34m%\u001b[0m \u001b[0;34m(\u001b[0m\u001b[0;36m2\u001b[0m \u001b[0;34m*\u001b[0m \u001b[0mnPoints\u001b[0m\u001b[0;34m)\u001b[0m\u001b[0;34m,\u001b[0m \u001b[0mf\u001b[0m\u001b[0;34m.\u001b[0m\u001b[0mread\u001b[0m\u001b[0;34m(\u001b[0m\u001b[0;36m16\u001b[0m\u001b[0;34m*\u001b[0m\u001b[0mnPoints\u001b[0m\u001b[0;34m)\u001b[0m\u001b[0;34m)\u001b[0m\u001b[0;34m\u001b[0m\u001b[0m\n\u001b[0m\u001b[1;32m    354\u001b[0m             \u001b[0mrecord\u001b[0m\u001b[0;34m.\u001b[0m\u001b[0mpoints\u001b[0m \u001b[0;34m=\u001b[0m \u001b[0mlist\u001b[0m\u001b[0;34m(\u001b[0m\u001b[0mizip\u001b[0m\u001b[0;34m(\u001b[0m\u001b[0;34m*\u001b[0m\u001b[0;34m(\u001b[0m\u001b[0miter\u001b[0m\u001b[0;34m(\u001b[0m\u001b[0mflat\u001b[0m\u001b[0;34m)\u001b[0m\u001b[0;34m,\u001b[0m\u001b[0;34m)\u001b[0m \u001b[0;34m*\u001b[0m \u001b[0;36m2\u001b[0m\u001b[0;34m)\u001b[0m\u001b[0;34m)\u001b[0m\u001b[0;34m\u001b[0m\u001b[0m\n\u001b[1;32m    355\u001b[0m         \u001b[0;31m# Read z extremes and values\u001b[0m\u001b[0;34m\u001b[0m\u001b[0;34m\u001b[0m\u001b[0m\n",
      "\u001b[0;31mKeyboardInterrupt\u001b[0m: "
     ]
    },
    {
     "data": {
      "image/png": "[encoded data removed]",
      "text/plain": [
       "<matplotlib.figure.Figure at 0x7f54ba792be0>"
      ]
     },
     "metadata": {},
     "output_type": "display_data"
    }
   ],
   "source": [
    "for i in sd_tract_list:\n",
    "    shape = ca_tracts.shapes()[i]\n",
    "    plt.plot(np.array(shape.points)[:,0], np.array(shape.points)[:,1])"
   ]
  },
  {
   "cell_type": "markdown",
   "metadata": {},
   "source": [
    "# Matching tracts and neighborhoods"
   ]
  },
  {
   "cell_type": "markdown",
   "metadata": {},
   "source": [
    "Example"
   ]
  },
  {
   "cell_type": "code",
   "execution_count": 142,
   "metadata": {
    "collapsed": true
   },
   "outputs": [],
   "source": [
    "import shapely\n",
    "from shapely.geometry import Polygon"
   ]
  },
  {
   "cell_type": "code",
   "execution_count": 152,
   "metadata": {
    "collapsed": false
   },
   "outputs": [],
   "source": [
    "tract_shape = ca_tracts.shapes()[sd_tract_list[1]]\n",
    "tract_poly = Polygon(tract_shape.points)"
   ]
  },
  {
   "cell_type": "code",
   "execution_count": 153,
   "metadata": {
    "collapsed": false
   },
   "outputs": [
    {
     "data": {
      "image/svg+xml": [
       "<svg xmlns=\"http://www.w3.org/2000/svg\" xmlns:xlink=\"http://www.w3.org/1999/xlink\" width=\"100.0\" height=\"100.0\" viewBox=\"-117.11636636 32.75451664 0.016182719999989104 0.011041720000001476\" preserveAspectRatio=\"xMinYMin meet\"><g transform=\"matrix(1,0,0,-1,0,65.52007499999999)\"><path fill-rule=\"evenodd\" fill=\"#66cc99\" stroke=\"#555555\" stroke-width=\"0.0003236543999997821\" opacity=\"0.6\" d=\"M -117.115179,32.760953 L -117.114099,32.760947 L -117.113803,32.760548 L -117.112033,32.759952999999996 L -117.111196,32.759969999999996 L -117.10956,32.760795 L -117.10942,32.763267 L -117.108332,32.764959 L -117.10731,32.76495 L -117.104724,32.764918 L -117.104746,32.763225 L -117.104792,32.758846 L -117.102427,32.758832 L -117.102901,32.757073 L -117.100783,32.757076 L -117.100807,32.755116 L -117.10292799999999,32.755131999999996 L -117.106122,32.755154 L -117.109329,32.755176 L -117.112546,32.7552 L -117.11362,32.755206 L -117.115767,32.755221 L -117.115179,32.760953 z\" /></g></svg>"
      ],
      "text/plain": [
       "<shapely.geometry.polygon.Polygon at 0x7f54b3d7fb38>"
      ]
     },
     "execution_count": 153,
     "metadata": {},
     "output_type": "execute_result"
    }
   ],
   "source": [
    "tract_poly"
   ]
  },
  {
   "cell_type": "code",
   "execution_count": 154,
   "metadata": {
    "collapsed": false
   },
   "outputs": [
    {
     "data": {
      "text/plain": [
       "387"
      ]
     },
     "execution_count": 154,
     "metadata": {},
     "output_type": "execute_result"
    }
   ],
   "source": [
    "sd_tract_list[0]"
   ]
  },
  {
   "cell_type": "code",
   "execution_count": 155,
   "metadata": {
    "collapsed": false
   },
   "outputs": [],
   "source": [
    "coverages = []\n",
    "for i in sd_neighborhood_list:\n",
    "    neighborhood_shape = ca_neighborhoods.shapes()[i]\n",
    "    neighborhood_poly = Polygon(neighborhood_shape.points)\n",
    "    \n",
    "    area = tract_poly.area\n",
    "    intersect_area = tract_poly.intersection(neighborhood_poly).area\n",
    "    coverage = intersect_area/area\n",
    "    coverages.append(coverage) \n",
    "    if coverage > .5:\n",
    "        break\n",
    "best_neighborhood = sd_neighborhood_list[np.argmax(coverages)]\n",
    "best_coverage = np.max(coverages)"
   ]
  },
  {
   "cell_type": "code",
   "execution_count": 156,
   "metadata": {
    "collapsed": false
   },
   "outputs": [],
   "source": [
    "neighborhood_shape = ca_neighborhoods.shapes()[best_neighborhood]\n",
    "neighborhood_poly = Polygon(neighborhood_shape.points)"
   ]
  },
  {
   "cell_type": "code",
   "execution_count": 157,
   "metadata": {
    "collapsed": false
   },
   "outputs": [
    {
     "data": {
      "image/svg+xml": [
       "<svg xmlns=\"http://www.w3.org/2000/svg\" xmlns:xlink=\"http://www.w3.org/1999/xlink\" width=\"100.0\" height=\"100.0\" viewBox=\"-117.11370842743992 32.75407373156001 0.018335087880018364 0.0267279868800685\" preserveAspectRatio=\"xMinYMin meet\"><g transform=\"matrix(1,0,0,-1,0,65.5348754500001)\"><path fill-rule=\"evenodd\" fill=\"#66cc99\" stroke=\"#555555\" stroke-width=\"0.0005345597376013699\" opacity=\"0.6\" d=\"M -117.10106331199985,32.757236482000025 L -117.10107521399995,32.755063657000015 L -117.10898949299992,32.755131443000025 L -117.10957099399991,32.75513631100007 L -117.10956615399994,32.76326188300004 L -117.11046340299993,32.765645591000094 L -117.11226395999986,32.76775441100005 L -117.11263976099988,32.772466837000046 L -117.1123727299999,32.775654552000006 L -117.11271850199992,32.77792729400003 L -117.11251276399994,32.778860557000066 L -117.1025635909999,32.77915438800004 L -117.10149581599993,32.77981179300008 L -117.1014416719999,32.77870707100007 L -117.10086363599994,32.777954545000064 L -117.0995727239999,32.77627272700009 L -117.09829254899992,32.77511001000008 L -117.09783636399993,32.77397272800003 L -117.09726348499996,32.77254535400006 L -117.09703663199993,32.76932724300006 L -117.0963632649999,32.76765454500004 L -117.09726363199988,32.76545454400009 L -117.09750000299991,32.76372727200008 L -117.09786349699996,32.76274536100002 L -117.0998916009999,32.760916630000054 L -117.10047272599994,32.76014545500002 L -117.10191855899993,32.75822726200003 L -117.10106331199985,32.757236482000025 z\" /></g></svg>"
      ],
      "text/plain": [
       "<shapely.geometry.polygon.Polygon at 0x7f54b740b208>"
      ]
     },
     "execution_count": 157,
     "metadata": {},
     "output_type": "execute_result"
    }
   ],
   "source": [
    "neighborhood_poly"
   ]
  },
  {
   "cell_type": "code",
   "execution_count": 158,
   "metadata": {
    "collapsed": false
   },
   "outputs": [
    {
     "data": {
      "text/plain": [
       "663"
      ]
     },
     "execution_count": 158,
     "metadata": {},
     "output_type": "execute_result"
    }
   ],
   "source": [
    "best_neighborhood"
   ]
  },
  {
   "cell_type": "code",
   "execution_count": 159,
   "metadata": {
    "collapsed": false
   },
   "outputs": [
    {
     "data": {
      "image/svg+xml": [
       "<svg xmlns=\"http://www.w3.org/2000/svg\" xmlns:xlink=\"http://www.w3.org/1999/xlink\" width=\"100.0\" height=\"100.0\" viewBox=\"-117.11370842743992 32.75407373156001 0.018335087880018364 0.0267279868800685\" preserveAspectRatio=\"xMinYMin meet\"><g transform=\"matrix(1,0,0,-1,0,65.5348754500001)\"><g><path fill-rule=\"evenodd\" fill=\"#66cc99\" stroke=\"#555555\" stroke-width=\"0.0005345597376013699\" opacity=\"0.6\" d=\"M -117.10106331199985,32.757236482000025 L -117.10106419324765,32.75707560170928 L -117.102901,32.757073 L -117.102427,32.758832 L -117.104792,32.758846 L -117.104746,32.763225 L -117.104724,32.764918 L -117.10731,32.76495 L -117.108332,32.764959 L -117.10942,32.763267 L -117.10956,32.760795 L -117.10956762569026,32.76079115452661 L -117.10956615399994,32.76326188300004 L -117.11046340299993,32.765645591000094 L -117.11226395999986,32.76775441100005 L -117.11263976099988,32.772466837000046 L -117.1123727299999,32.775654552000006 L -117.11271850199992,32.77792729400003 L -117.11251276399994,32.778860557000066 L -117.1025635909999,32.77915438800004 L -117.10149581599993,32.77981179300008 L -117.1014416719999,32.77870707100007 L -117.10086363599994,32.777954545000064 L -117.0995727239999,32.77627272700009 L -117.09829254899992,32.77511001000008 L -117.09783636399993,32.77397272800003 L -117.09726348499996,32.77254535400006 L -117.09703663199993,32.76932724300006 L -117.0963632649999,32.76765454500004 L -117.09726363199988,32.76545454400009 L -117.09750000299991,32.76372727200008 L -117.09786349699996,32.76274536100002 L -117.0998916009999,32.760916630000054 L -117.10047272599994,32.76014545500002 L -117.10191855899993,32.75822726200003 L -117.10106331199985,32.757236482000025 z\" /><path fill-rule=\"evenodd\" fill=\"#66cc99\" stroke=\"#555555\" stroke-width=\"0.0005345597376013699\" opacity=\"0.6\" d=\"M -117.10107491621204,32.75511802105582 L -117.10107521399995,32.755063657000015 L -117.10898949299992,32.755131443000025 L -117.10957099399991,32.75513631100007 L -117.10957096928388,32.75517780517961 L -117.109329,32.755176 L -117.106122,32.755154 L -117.10292799999999,32.755131999999996 L -117.10107491621204,32.75511802105582 z\" /></g></g></svg>"
      ],
      "text/plain": [
       "<shapely.geometry.multipolygon.MultiPolygon at 0x7f54b9b2e198>"
      ]
     },
     "execution_count": 159,
     "metadata": {},
     "output_type": "execute_result"
    }
   ],
   "source": [
    "neighborhood_poly.difference(tract_poly)"
   ]
  },
  {
   "cell_type": "code",
   "execution_count": 160,
   "metadata": {
    "collapsed": false
   },
   "outputs": [
    {
     "data": {
      "text/plain": [
       "0.64271708937554295"
      ]
     },
     "execution_count": 160,
     "metadata": {},
     "output_type": "execute_result"
    }
   ],
   "source": [
    "best_coverage"
   ]
  },
  {
   "cell_type": "markdown",
   "metadata": {},
   "source": [
    "Populate full dictionary"
   ]
  },
  {
   "cell_type": "code",
   "execution_count": 165,
   "metadata": {
    "collapsed": false
   },
   "outputs": [
    {
     "ename": "KeyboardInterrupt",
     "evalue": "",
     "output_type": "error",
     "traceback": [
      "\u001b[0;31m---------------------------------------------------------------------------\u001b[0m",
      "\u001b[0;31mKeyboardInterrupt\u001b[0m                         Traceback (most recent call last)",
      "\u001b[0;32m<ipython-input-165-c003bcc5d625>\u001b[0m in \u001b[0;36m<module>\u001b[0;34m()\u001b[0m\n\u001b[1;32m      6\u001b[0m     \u001b[0mcoverages\u001b[0m \u001b[0;34m=\u001b[0m \u001b[0;34m[\u001b[0m\u001b[0;34m]\u001b[0m\u001b[0;34m\u001b[0m\u001b[0m\n\u001b[1;32m      7\u001b[0m     \u001b[0;32mfor\u001b[0m \u001b[0mj\u001b[0m \u001b[0;32min\u001b[0m \u001b[0msd_neighborhood_list\u001b[0m\u001b[0;34m:\u001b[0m\u001b[0;34m\u001b[0m\u001b[0m\n\u001b[0;32m----> 8\u001b[0;31m         \u001b[0mneighborhood_shape\u001b[0m \u001b[0;34m=\u001b[0m \u001b[0mca_neighborhoods\u001b[0m\u001b[0;34m.\u001b[0m\u001b[0mshapes\u001b[0m\u001b[0;34m(\u001b[0m\u001b[0;34m)\u001b[0m\u001b[0;34m[\u001b[0m\u001b[0mj\u001b[0m\u001b[0;34m]\u001b[0m\u001b[0;34m\u001b[0m\u001b[0m\n\u001b[0m\u001b[1;32m      9\u001b[0m         \u001b[0mneighborhood_poly\u001b[0m \u001b[0;34m=\u001b[0m \u001b[0mPolygon\u001b[0m\u001b[0;34m(\u001b[0m\u001b[0mneighborhood_shape\u001b[0m\u001b[0;34m.\u001b[0m\u001b[0mpoints\u001b[0m\u001b[0;34m)\u001b[0m\u001b[0;34m\u001b[0m\u001b[0m\n\u001b[1;32m     10\u001b[0m \u001b[0;34m\u001b[0m\u001b[0m\n",
      "\u001b[0;32m/home/hudson/anaconda3/lib/python3.6/site-packages/shapefile.py\u001b[0m in \u001b[0;36mshapes\u001b[0;34m(self)\u001b[0m\n\u001b[1;32m    430\u001b[0m         \u001b[0mshapes\u001b[0m \u001b[0;34m=\u001b[0m \u001b[0;34m[\u001b[0m\u001b[0;34m]\u001b[0m\u001b[0;34m\u001b[0m\u001b[0m\n\u001b[1;32m    431\u001b[0m         \u001b[0;32mwhile\u001b[0m \u001b[0mshp\u001b[0m\u001b[0;34m.\u001b[0m\u001b[0mtell\u001b[0m\u001b[0;34m(\u001b[0m\u001b[0;34m)\u001b[0m \u001b[0;34m<\u001b[0m \u001b[0mself\u001b[0m\u001b[0;34m.\u001b[0m\u001b[0mshpLength\u001b[0m\u001b[0;34m:\u001b[0m\u001b[0;34m\u001b[0m\u001b[0m\n\u001b[0;32m--> 432\u001b[0;31m             \u001b[0mshapes\u001b[0m\u001b[0;34m.\u001b[0m\u001b[0mappend\u001b[0m\u001b[0;34m(\u001b[0m\u001b[0mself\u001b[0m\u001b[0;34m.\u001b[0m\u001b[0m__shape\u001b[0m\u001b[0;34m(\u001b[0m\u001b[0;34m)\u001b[0m\u001b[0;34m)\u001b[0m\u001b[0;34m\u001b[0m\u001b[0m\n\u001b[0m\u001b[1;32m    433\u001b[0m         \u001b[0;32mreturn\u001b[0m \u001b[0mshapes\u001b[0m\u001b[0;34m\u001b[0m\u001b[0m\n\u001b[1;32m    434\u001b[0m \u001b[0;34m\u001b[0m\u001b[0m\n",
      "\u001b[0;32m/home/hudson/anaconda3/lib/python3.6/site-packages/shapefile.py\u001b[0m in \u001b[0;36m__shape\u001b[0;34m(self)\u001b[0m\n\u001b[1;32m    352\u001b[0m         \u001b[0;32mif\u001b[0m \u001b[0mnPoints\u001b[0m\u001b[0;34m:\u001b[0m\u001b[0;34m\u001b[0m\u001b[0m\n\u001b[1;32m    353\u001b[0m             \u001b[0mflat\u001b[0m \u001b[0;34m=\u001b[0m \u001b[0munpack\u001b[0m\u001b[0;34m(\u001b[0m\u001b[0;34m\"<%sd\"\u001b[0m \u001b[0;34m%\u001b[0m \u001b[0;34m(\u001b[0m\u001b[0;36m2\u001b[0m \u001b[0;34m*\u001b[0m \u001b[0mnPoints\u001b[0m\u001b[0;34m)\u001b[0m\u001b[0;34m,\u001b[0m \u001b[0mf\u001b[0m\u001b[0;34m.\u001b[0m\u001b[0mread\u001b[0m\u001b[0;34m(\u001b[0m\u001b[0;36m16\u001b[0m\u001b[0;34m*\u001b[0m\u001b[0mnPoints\u001b[0m\u001b[0;34m)\u001b[0m\u001b[0;34m)\u001b[0m\u001b[0;34m\u001b[0m\u001b[0m\n\u001b[0;32m--> 354\u001b[0;31m             \u001b[0mrecord\u001b[0m\u001b[0;34m.\u001b[0m\u001b[0mpoints\u001b[0m \u001b[0;34m=\u001b[0m \u001b[0mlist\u001b[0m\u001b[0;34m(\u001b[0m\u001b[0mizip\u001b[0m\u001b[0;34m(\u001b[0m\u001b[0;34m*\u001b[0m\u001b[0;34m(\u001b[0m\u001b[0miter\u001b[0m\u001b[0;34m(\u001b[0m\u001b[0mflat\u001b[0m\u001b[0;34m)\u001b[0m\u001b[0;34m,\u001b[0m\u001b[0;34m)\u001b[0m \u001b[0;34m*\u001b[0m \u001b[0;36m2\u001b[0m\u001b[0;34m)\u001b[0m\u001b[0;34m)\u001b[0m\u001b[0;34m\u001b[0m\u001b[0m\n\u001b[0m\u001b[1;32m    355\u001b[0m         \u001b[0;31m# Read z extremes and values\u001b[0m\u001b[0;34m\u001b[0m\u001b[0;34m\u001b[0m\u001b[0m\n\u001b[1;32m    356\u001b[0m         \u001b[0;32mif\u001b[0m \u001b[0mshapeType\u001b[0m \u001b[0;32min\u001b[0m \u001b[0;34m(\u001b[0m\u001b[0;36m13\u001b[0m\u001b[0;34m,\u001b[0m\u001b[0;36m15\u001b[0m\u001b[0;34m,\u001b[0m\u001b[0;36m18\u001b[0m\u001b[0;34m,\u001b[0m\u001b[0;36m31\u001b[0m\u001b[0;34m)\u001b[0m\u001b[0;34m:\u001b[0m\u001b[0;34m\u001b[0m\u001b[0m\n",
      "\u001b[0;31mKeyboardInterrupt\u001b[0m: "
     ]
    }
   ],
   "source": [
    "neighborhood_tracts = {}\n",
    "for i in sd_tract_list[:10]:\n",
    "    tract_shape = ca_tracts.shapes()[i]\n",
    "    tract_poly = Polygon(tract_shape.points)\n",
    "    \n",
    "    coverages = []\n",
    "    for j in sd_neighborhood_list:\n",
    "        neighborhood_shape = ca_neighborhoods.shapes()[j]\n",
    "        neighborhood_poly = Polygon(neighborhood_shape.points)\n",
    "\n",
    "        area = tract_poly.area\n",
    "        intersect_area = tract_poly.intersection(neighborhood_poly).area\n",
    "        coverage = 0 if area == 0 else intersect_area/area\n",
    "        coverages.append(coverage) \n",
    "        if coverage > .5:\n",
    "            break\n",
    "    \n",
    "    best_neighborhood = sd_neighborhood_list[np.argmax(coverages)]\n",
    "    best_coverage = np.max(coverages)\n",
    "    \n",
    "    if best_neighborhood not in neighborhood_tracts:\n",
    "        neighborhood_tracts[best_neighborhood] = {\n",
    "            'tracts': [i],\n",
    "            'coverages': [best_coverage]\n",
    "        }\n",
    "    else:\n",
    "        entry = neighborhood_tracts[best_neighborhood]\n",
    "        entry['tracts'].append(i)\n",
    "        entry['coverages'].append(best_coverage)"
   ]
  },
  {
   "cell_type": "code",
   "execution_count": 166,
   "metadata": {
    "collapsed": false
   },
   "outputs": [
    {
     "data": {
      "text/plain": [
       "{79: {'coverages': [0.96740606489498049], 'tracts': [387]}}"
      ]
     },
     "execution_count": 166,
     "metadata": {},
     "output_type": "execute_result"
    }
   ],
   "source": [
    "neighborhood_tracts"
   ]
  },
  {
   "cell_type": "code",
   "execution_count": 162,
   "metadata": {
    "collapsed": true
   },
   "outputs": [],
   "source": [
    "import json\n",
    "with open('Data/neighborhood_tracts.json', 'w') as fp:\n",
    "    json.dump(neighborhood_tracts, fp)"
   ]
  }
 ],
 "metadata": {
  "kernelspec": {
   "display_name": "Python 3",
   "language": "python",
   "name": "python3"
  },
  "language_info": {
   "codemirror_mode": {
    "name": "ipython",
    "version": 3
   },
   "file_extension": ".py",
   "mimetype": "text/x-python",
   "name": "python",
   "nbconvert_exporter": "python",
   "pygments_lexer": "ipython3",
   "version": "3.6.0"
  }
 },
 "nbformat": 4,
 "nbformat_minor": 2
}
