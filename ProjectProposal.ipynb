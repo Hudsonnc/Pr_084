{
 "cells": [
  {
   "cell_type": "markdown",
   "metadata": {},
   "source": [
    "# COGS 108 - Assignment 4: Project Proposal"
   ]
  },
  {
   "cell_type": "markdown",
   "metadata": {},
   "source": [
    "## Important\n",
    "\n",
    "- Make sure all group member (3-5 people) are listed in the group members section.\n",
    "- ONE, and only one, member of your group should upload this notebook to TritonED. \n",
    "- Each member of the group will receive the same grade on this assignment. \n",
    "- Keep the file name the same: submit the file 'A4_ProjectProposal.ipynb'"
   ]
  },
  {
   "cell_type": "markdown",
   "metadata": {},
   "source": [
    "## Overview"
   ]
  },
  {
   "cell_type": "markdown",
   "metadata": {},
   "source": [
    "Read the project description, and detailed instructions for this assignment, in the 'A4_ProjectOutlineAndProposal' pdf."
   ]
  },
  {
   "cell_type": "markdown",
   "metadata": {},
   "source": [
    "## Group Members: Fill in the Student ID's of each group member here\n",
    "\n",
    "- A12199791\n",
    "- A11222521\n",
    "- A11627502\n",
    "- A10830424\n",
    "- A91116613\n"
   ]
  },
  {
   "cell_type": "markdown",
   "metadata": {},
   "source": [
    "### Research Question\n",
    "\n",
    "What is your research question? (1-2 sentences)"
   ]
  },
  {
   "cell_type": "markdown",
   "metadata": {},
   "source": [
    "How does transportation infrastructure affect the ‘livability’ of a neighborhood or city? Livability will be determined by looking at factors like cost of living vs income and/or number of ‘poor mental health days’."
   ]
  },
  {
   "cell_type": "markdown",
   "metadata": {},
   "source": [
    "### Hypothesis\n",
    "\n",
    "What is your prediction (2-3 sentences)"
   ]
  },
  {
   "cell_type": "markdown",
   "metadata": {},
   "source": [
    "We expect that people in transportation accessible areas will have more choice in what types of jobs to work, food to eat, and recreational activities to pursue. Thus our hypothesis is that areas with increased access to transportation and/or areas with higher traversability will be more livable. "
   ]
  },
  {
   "cell_type": "markdown",
   "metadata": {},
   "source": [
    "### Dataset(s)\n",
    "\n",
    "What data will you use to answer your question? Describe the dataset in terms of number of observations, what kind of features it contains, etc. You must use at least one dataset containing at least approximately 1000 observations (if your data are smaller but you feel they are sufficient, email Prof. Voytek). You are welcome (and in fact recommended) to find multiple datasets! If you do so, describe each one, and briefly explain how you will combine them together. "
   ]
  },
  {
   "cell_type": "markdown",
   "metadata": {},
   "source": [
    "\n",
    "- Dataset Name: ACCRA cost of living index\n",
    "- Link to the dataset: http://docs.library.unr.edu/rs/accra/2010-annual.xls\n",
    "- Number of observations: Data from 343 areas nationwide, both metropolitan and not Cost of living compared to national average, broken up into categories for grocery, housing, utilities, transportation, healthcare, and miscellaneous goods and services.\n",
    "\n",
    "- Dataset Name: Walk Score\n",
    "- Link to the dataset: https://www.walkscore.com/\n",
    "- Number of observations: Data from 3,000 US cities and over 10,000 neighborhoods Metrics on how walkable, bikeable, and transit-accessible each neighborhood or city is\n",
    "\n",
    "- Dataset Name: US Census\n",
    "- Link to the dataset: https://www.census.gov/data.html\n",
    "- Number of observations: Statistics for all states and counties, and for cities and towns with a population of 5,000 or more. (Actual number unknown; need to find API or other method for querying census database to find out) Information, including education, race, person per household, median income, mean travel time to work, unemployment, number of employment establishments, etc.\n",
    "\n",
    "- Dataset Name: County health rankings \n",
    "- Link to the dataset: http://www.countyhealthrankings.org/\n",
    "- Number of observations: Data from each of the United States’ 3114 counties and county equivalents Physical and mental health ranking in each county. Includes average number of ‘poor mental health days’ within  30 days before survey taken, health behaviors, and socioeconomic factors\n",
    "\n",
    "- By using these multiple data sets we could try and find if they support our hypothesis, and if so in what ways. Different data should offer different angles of the issue.\n"
   ]
  },
  {
   "cell_type": "markdown",
   "metadata": {},
   "source": [
    "### Background & Prior Work\n",
    "\n",
    "Why is this question of interest, what background information led you to your hypothesis, and why is this important?\n",
    "\n",
    "Find some relevant prior work, and reference them. Even if you think you have a totally novel question, find the most similar prior work you can, and discuss how it relates to your project. \n",
    "\n",
    "References can be research publications, but they need not be: blogs, github repositories, company websites, etc., are viable references if they are relevant to your project.\n",
    "\n",
    "(2-3 paragraphs, including at least 2 references)"
   ]
  },
  {
   "cell_type": "markdown",
   "metadata": {},
   "source": [
    "There is clearly a complicated relationship between the availability of work, transportation infrastructure, and affluence. Cities can be too expensive for many to live in, but they are the centers of much economic activity. Therefore, in counties without strong transportation infrastructure between more affordable areas and city centers, we expect to observe lower economic mobility and lower overall affluence.\n",
    "A 2015 paper by Brian McKenzie of the US Census Bureau, “Transit Access and Population Change: The Demographic Profiles of Rail-Accessible Neighborhoods in the Washington, DC Area“, found that “young adults, recent movers, white workers, highly educated workers, and workers with high earnings all disproportionately live near rail stops” in Washington, DC and the five surrounding counties. This suggests that there is a positive correlation between rail accessibility and affluence. However, it is unclear whether transportation access is causal for affluence or vice versa. \n",
    "We do not intend to focus solely on economic affluence as a measure of ‘livability’, and so we also find relevant a paper by Stephan Goetz, et al., “County-Level Determinants of Mental Health, 2002–2008”. The researchers investigated the contributing factors of happiness and mental health, including educational attainment, employment, ‘social capital’, and environmental/weather factors. The general conclusion of the study ”is that living in a non-metro county and adjacent to a metro core is associated with greater happiness”. We wish to further investigate if and how transportation infrastructure impact this effect. \n",
    "\n",
    "Referencess:\n",
    "- 1) Brian McKenzie. 2015. “Transit Access and Population Change: The Demographic Profiles of Rail-Accessible Neighborhoods in the Washington, DC Area.” SEHSD Working Paper No. 2015-023. U.S. Census Bureau. Washington, DC. https://www.census.gov/content/dam/Census/library/working-papers/2015/demo/SEHSD-WP2015-23.pdf \n",
    "\n",
    "- 2) Goetz, Stephan J., Meri Davlasheridze, and Yicheol Han. \"County-Level Determinants of Mental Health, 2002–2008.\" Social Indicators Research 124.2 (2015): 657-670. http://search.proquest.com/openview/27644e26f0e7e4b92a2753ee96119ce0/1.pdf?pq-origsite=gscholar&cbl=36473\n",
    "\n"
   ]
  },
  {
   "cell_type": "markdown",
   "metadata": {},
   "source": [
    "### Proposed Methods\n",
    "\n",
    "What methods will you use to analyze your data?\n",
    "\n",
    "- How 'clean' is the data? To the extent that it requires cleaning, how will you do so?\n",
    "- How will you analyze the data? Be as specific as you can. Briefly mention any pre-processing steps that are required for your methods (for example, checking data distributions and performing any transformations that may be required). Include a brief outline of how you will apply your chosen method(s). \n",
    "- What do you plan to report? Briefly mention any key visualizations you plan to create, and/or the kind of result you will be able to report that addresses your question (this could be, for example, the outcome of some statistical test(s), prediction error on a model, a model fit parameter, etc.).\n",
    "- Include a list of packages you expect to use for you project. If you plan to use packages we have not used in class, add a very brief description about them (a few words is sufficient). "
   ]
  },
  {
   "cell_type": "markdown",
   "metadata": {},
   "source": [
    "*Fill in your proposed methods information here:*\n",
    "\n",
    "*Data Cleaning (2-3 sentences)*\n",
    "The data included in the above datasets appear to be fairly clean, potentially due to previous cleanings before being published. However, if further cleaning is necessary, we could use pandas dataframe to clean the data.\n",
    "\n",
    "\n",
    "*Data Analysis (1-2 paragraphs)*\n",
    "In order to acquire the data showing the relationships between the livability and the development of public transportation, we would first have to acquire and clean the data for each livability and transportation development category. Then we would have to collect and redistribute data regarding each region - for example, in some datasets La Jolla might be considered a different region (by having a separate row) than San Diego. We need to collect all the La Jolla data and add them to San Diego. Data will be analyzed based on county in order to simplify the manual process. \n",
    "\n",
    "After getting all the data redistributed to the corresponding counties and processed, we will work on the visualization and graphing of the correlations. We need to first draw out the corresponding data points for each transportation category and livability category to see if any significant findings are present for the corresponding sub-category. Then we will calculate the average transportation index and livability index for each region and draw out the data points to see if there is any significant correlations between these two general indexes. At last, we will attempt to visualize the results by drawing out the correlation for each significant finding.\n",
    "\n",
    "*What to report (2-3 sentences)*\n",
    "We will calculate a final transportation development index and a livability index for each city, and then compare these two data to see if any significant correlations are present. The key visualization would be the data points graphs with correlations for each sub-category that has a significant correlation and a graph that contains data points of general indexes (transportation development index / livability index) for all the cities. \n",
    "\n",
    "\n",
    "Packages we plan to use:\n",
    "- A Pandas\n",
    "- B Numpy\n",
    "- C matplotlib.pyplot\n",
    "- D sklearn for multiple linear regression\n"
   ]
  },
  {
   "cell_type": "markdown",
   "metadata": {},
   "source": [
    "### Discussion\n",
    "\n",
    "What are the pitfalls and potential confounds of your data and/or methods? For example, how might biases in your data sources or analyses influence your interpretations? What will you do if you methods don't work and/or your hypotheses are wrong?\n",
    "\n",
    "(2-3 paragraphs)"
   ]
  },
  {
   "cell_type": "markdown",
   "metadata": {},
   "source": [
    "Potential obstacles in our methodology could arise in response to the feasibility in cleaning and redistributing data sources. As previously mentioned within certain counties there may be outliers that don’t get classified in the grander region in which it resides i.e. La Jolla. In order to address more specific biases that could arise in our data sets we need to thoroughly research our sources and read through the procedure and conditions in which our data were originally gathered. A potential confound that must be addressed within our data sets that may have not been addressed originally that could create biases range from levels of income within certain regions and other uncontrollable forces such as nature and specifically weather patterns within that region that could be linked to overall livability and general happiness for that given individual. \n",
    "\n",
    "Given an opposing outcome in response to our original hypothesis we can then take the same data we used and attempt to find another source of causation or correlation within our data sets. If we choose to wipe/clean some of our data, that original data may hold an answer or another experimental question that could be answered. Even if our hypothesis end up being incorrect we will have the data models and sets necessary to potentially find new sources of significant correlation. \n",
    "\n"
   ]
  }
 ],
 "metadata": {
  "kernelspec": {
   "display_name": "Python 3",
   "language": "python",
   "name": "python3"
  },
  "language_info": {
   "codemirror_mode": {
    "name": "ipython",
    "version": 3
   },
   "file_extension": ".py",
   "mimetype": "text/x-python",
   "name": "python",
   "nbconvert_exporter": "python",
   "pygments_lexer": "ipython3",
   "version": "3.6.0"
  }
 },
 "nbformat": 4,
 "nbformat_minor": 2
}
