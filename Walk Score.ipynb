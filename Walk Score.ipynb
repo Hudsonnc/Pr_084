{
 "cells": [
  {
   "cell_type": "markdown",
   "metadata": {},
   "source": [
    "# API (You must obtain your own API key if you want to play with this. go to the WalkScore website and email them a request)"
   ]
  },
  {
   "cell_type": "markdown",
   "metadata": {},
   "source": [
    "## Limitation: must specify city, longatude, latitude (very fine-grained)"
   ]
  },
  {
   "cell_type": "code",
   "execution_count": 26,
   "metadata": {
    "collapsed": true
   },
   "outputs": [],
   "source": [
    "import requests\n",
    "import pandas as pd"
   ]
  },
  {
   "cell_type": "code",
   "execution_count": 126,
   "metadata": {
    "collapsed": false
   },
   "outputs": [],
   "source": [
    "with open('API_KEY') as key:\n",
    "    API_KEY = key.read()"
   ]
  },
  {
   "cell_type": "code",
   "execution_count": 127,
   "metadata": {
    "collapsed": false
   },
   "outputs": [],
   "source": [
    "page = requests.get('http://api.walkscore.com/score?format=json\\\n",
    "&address=1119%8th%20Avenue%20Seattle%20WA%2098101&lat=47.6085&\\\n",
    "lon=-122.3295&transit=1&bike=1&wsapikey=' + API_KEY)"
   ]
  },
  {
   "cell_type": "code",
   "execution_count": 128,
   "metadata": {
    "collapsed": false
   },
   "outputs": [
    {
     "data": {
      "text/plain": [
       "bike                       {'score': 68, 'description': 'Bikeable'}\n",
       "description                                       Walker's Paradise\n",
       "help_link               https://www.redfin.com/how-walk-score-works\n",
       "logo_url                    https://cdn.walk.sc/images/api-logo.png\n",
       "more_info_icon         https://cdn.walk.sc/images/api-more-info.gif\n",
       "more_info_link          https://www.redfin.com/how-walk-score-works\n",
       "snapped_lat                                                 47.6085\n",
       "snapped_lon                                                -122.329\n",
       "status                                                            1\n",
       "transit           {'score': None, 'description': None, 'summary'...\n",
       "updated                                  2017-05-18 04:47:37.737630\n",
       "walkscore                                                        97\n",
       "ws_link           https://www.walkscore.com/score/1119-8th-20Ave...\n",
       "dtype: object"
      ]
     },
     "execution_count": 128,
     "metadata": {},
     "output_type": "execute_result"
    }
   ],
   "source": [
    "pd.read_json(page.content, typ='series')"
   ]
  },
  {
   "cell_type": "code",
   "execution_count": 129,
   "metadata": {
    "collapsed": false
   },
   "outputs": [
    {
     "name": "stdout",
     "output_type": "stream",
     "text": [
      "b'{\\n\"status\": 1  \\n, \"walkscore\": 97\\n, \"description\": \"Walker\\'s Paradise\"\\n, \"updated\": \"2017-05-18 04:47:37.737630\" \\n, \"logo_url\": \"https://cdn.walk.sc/images/api-logo.png\"\\n, \"more_info_icon\": \"https://cdn.walk.sc/images/api-more-info.gif\"\\n, \"more_info_link\": \"https://www.redfin.com/how-walk-score-works\"\\n, \"ws_link\": \"https://www.walkscore.com/score/1119-8th-20Avenue-20Seattle-20WA-2098101/lat=47.6085/lng=-122.3295/?utm_source=github.com/cogs108/pr_084 &utm_medium=ws_api&utm_campaign=ws_api\"\\n, \"help_link\": \"https://www.redfin.com/how-walk-score-works\"\\n, \"snapped_lat\": 47.6085\\n, \"snapped_lon\": -122.3295 \\n\\n\\n\\n, \"transit\" : {\"score\": null, \"description\": null, \"summary\": null} \\n, \"bike\" : {\"score\": 68, \"description\": \"Bikeable\"} \\n}'\n"
     ]
    }
   ],
   "source": [
    "print(page.content)"
   ]
  },
  {
   "cell_type": "markdown",
   "metadata": {},
   "source": [
    "# HTML (Run this to scrape table from https://www.walkscore.com/cities-and-neighborhoods)"
   ]
  },
  {
   "cell_type": "code",
   "execution_count": 105,
   "metadata": {
    "collapsed": false
   },
   "outputs": [],
   "source": [
    "import requests\n",
    "from bs4 import BeautifulSoup\n",
    "import pandas as pd"
   ]
  },
  {
   "cell_type": "code",
   "execution_count": 69,
   "metadata": {
    "collapsed": false
   },
   "outputs": [],
   "source": [
    "page = requests.get('https://www.walkscore.com/cities-and-neighborhoods')\n",
    "soup = BeautifulSoup(page.content, 'html.parser')"
   ]
  },
  {
   "cell_type": "code",
   "execution_count": 120,
   "metadata": {
    "collapsed": false
   },
   "outputs": [],
   "source": [
    "head = ['City', 'State', 'Walk Score', \n",
    "        'Transit Score', 'Bike Score', 'Population']\n",
    "table = soup.table('tr')[1:]\n",
    "data = []\n",
    "for entry in table:\n",
    "    city = ' '.join(entry.get_text().split()[:-5])\n",
    "    rest = entry.get_text().split()[-5:]\n",
    "    rest.insert(0,city)\n",
    "    \n",
    "    data.append(rest)"
   ]
  },
  {
   "cell_type": "code",
   "execution_count": 131,
   "metadata": {
    "collapsed": true
   },
   "outputs": [],
   "source": [
    "df.to_csv('Data/MostWalkable.csv')"
   ]
  }
 ],
 "metadata": {
  "kernelspec": {
   "display_name": "Python 3",
   "language": "python",
   "name": "python3"
  },
  "language_info": {
   "codemirror_mode": {
    "name": "ipython",
    "version": 3
   },
   "file_extension": ".py",
   "mimetype": "text/x-python",
   "name": "python",
   "nbconvert_exporter": "python",
   "pygments_lexer": "ipython3",
   "version": "3.6.0"
  }
 },
 "nbformat": 4,
 "nbformat_minor": 2
}
